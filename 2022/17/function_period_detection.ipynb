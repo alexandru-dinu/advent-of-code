{
 "cells": [
  {
   "cell_type": "code",
   "execution_count": 1,
   "id": "be2b4765-8fd1-4e6e-8813-a44c39162aa9",
   "metadata": {},
   "outputs": [],
   "source": [
    "import numpy as np\n",
    "import matplotlib.pyplot as plt\n",
    "from itertools import count\n",
    "from collections import deque"
   ]
  },
  {
   "cell_type": "code",
   "execution_count": 2,
   "id": "be1d4155-4b43-4cff-b995-edbdee9f8c0c",
   "metadata": {},
   "outputs": [],
   "source": [
    "heights = np.load(\"tops_input_20k.npy\")\n",
    "delta_heights = np.diff(heights)"
   ]
  },
  {
   "cell_type": "code",
   "execution_count": 3,
   "id": "fdd8d55f-8c11-4920-aec3-edde2cb41cf4",
   "metadata": {},
   "outputs": [],
   "source": [
    "# LIM = 200\n",
    "# plt.figure(figsize=(24, 6))\n",
    "# plt.plot(np.diff(heights[:LIM]), lw=1, marker='o', markersize=4)\n",
    "# plt.grid(True)\n",
    "# plt.yticks([0, 1, 2, 3, 4])\n",
    "# plt.xticks(np.arange(0, LIM, 5))\n",
    "# for i in np.arange(15, LIM, 35):\n",
    "#     plt.vlines(i, 0, 4, colors='r')\n",
    "# pass"
   ]
  },
  {
   "cell_type": "code",
   "execution_count": 4,
   "id": "bad752b7-7e66-4039-8d66-c4f6d4ebc5a5",
   "metadata": {},
   "outputs": [],
   "source": [
    "def find_extra_and_period():\n",
    "    N = len(heights)\n",
    "\n",
    "    for t1 in range(1, N):\n",
    "        for period_size in range(2, N // 2):\n",
    "            t2 = t1 + period_size\n",
    "            t3 = t2 + period_size\n",
    "\n",
    "            # print(t1, period_size)\n",
    "\n",
    "            if delta_heights[t1:t2].shape != delta_heights[t2:t3].shape:\n",
    "                break\n",
    "\n",
    "            cond1 = all(delta_heights[t1:t2] == delta_heights[t2:t3])\n",
    "            dh = delta_heights[:t2].sum() - delta_heights[:t1].sum()\n",
    "            cond2 = dh == (delta_heights[:t3].sum() - delta_heights[:t2].sum())\n",
    "            if cond1 and cond2:\n",
    "                yield t1, period_size\n",
    "\n",
    "    assert False"
   ]
  },
  {
   "cell_type": "code",
   "execution_count": 5,
   "id": "470dbe13-b94b-4be6-a8b2-3efe574fe276",
   "metadata": {},
   "outputs": [
    {
     "name": "stdout",
     "output_type": "stream",
     "text": [
      "211 1705\n"
     ]
    }
   ],
   "source": [
    "seen = deque(maxlen=3)\n",
    "\n",
    "for (t1, period_size) in find_extra_and_period():\n",
    "    seen.append((t1, period_size))\n",
    "    # print(t1, period_size)\n",
    "\n",
    "    if len(seen) == 3:\n",
    "        t1, p1 = seen[0]\n",
    "        t2, p2 = seen[1]\n",
    "        t3, p3 = seen[2]\n",
    "        if t1 == t2 == t2 and p2 - p1 == p3 - p2:\n",
    "            print(t1, p2 - p1)\n",
    "            break"
   ]
  },
  {
   "cell_type": "code",
   "execution_count": 6,
   "id": "af288a6c-c20d-4269-ae56-49b3ec028bd9",
   "metadata": {},
   "outputs": [],
   "source": [
    "t1 = 211\n",
    "period_size = 1705"
   ]
  },
  {
   "cell_type": "code",
   "execution_count": 7,
   "id": "986e903a-742d-4734-a360-4c6b273b8198",
   "metadata": {},
   "outputs": [
    {
     "name": "stdout",
     "output_type": "stream",
     "text": [
      "dH=2597\n"
     ]
    }
   ],
   "source": [
    "t2 = t1 + period_size\n",
    "t3 = t2 + period_size\n",
    "\n",
    "assert all(delta_heights[t1:t2] == delta_heights[t2:t3])\n",
    "\n",
    "dH = delta_heights[:t2].sum() - delta_heights[:t1].sum()\n",
    "assert dH == (delta_heights[:t3].sum() - delta_heights[:t2].sum())\n",
    "print(f\"{dH=}\")"
   ]
  },
  {
   "cell_type": "code",
   "execution_count": 8,
   "id": "08099afa-5439-41e1-b89e-0e6c50afec6a",
   "metadata": {},
   "outputs": [],
   "source": [
    "def height(t):\n",
    "    d, m = map(int, divmod(t - t1, period_size))\n",
    "    return delta_heights[:t1].sum() + d * dH + delta_heights[t1 : t1 + m].sum()\n",
    "\n",
    "\n",
    "for t in range(t1, len(heights)):\n",
    "    assert height(t) == heights[t]"
   ]
  },
  {
   "cell_type": "code",
   "execution_count": 9,
   "id": "a9da498b-36bb-41fc-bdb6-42c6e1d1c5a9",
   "metadata": {},
   "outputs": [
    {
     "data": {
      "text/plain": [
       "1523167155404"
      ]
     },
     "execution_count": 9,
     "metadata": {},
     "output_type": "execute_result"
    }
   ],
   "source": [
    "height(1e12)"
   ]
  },
  {
   "cell_type": "code",
   "execution_count": null,
   "id": "631ea254-2eea-4ff9-87da-2d08e1a9efe6",
   "metadata": {},
   "outputs": [],
   "source": []
  }
 ],
 "metadata": {
  "kernelspec": {
   "display_name": "Python 3 (ipykernel)",
   "language": "python",
   "name": "python3"
  },
  "language_info": {
   "codemirror_mode": {
    "name": "ipython",
    "version": 3
   },
   "file_extension": ".py",
   "mimetype": "text/x-python",
   "name": "python",
   "nbconvert_exporter": "python",
   "pygments_lexer": "ipython3",
   "version": "3.9.15"
  }
 },
 "nbformat": 4,
 "nbformat_minor": 5
}
