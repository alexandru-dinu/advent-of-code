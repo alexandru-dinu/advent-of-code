{
 "cells": [
  {
   "cell_type": "code",
   "execution_count": 16,
   "id": "2262708b",
   "metadata": {},
   "outputs": [],
   "source": [
    "import numpy as np\n",
    "import matplotlib.pyplot as plt\n",
    "import seaborn as sns\n",
    "from collections import defaultdict\n",
    "from heapq import heappush, heappop\n",
    "\n",
    "%matplotlib inline\n",
    "%config InlineBackend.figure_format = 'retina'\n",
    "sns.set()"
   ]
  },
  {
   "cell_type": "code",
   "execution_count": 23,
   "id": "501bfdbc",
   "metadata": {},
   "outputs": [],
   "source": [
    "G = {\n",
    "    's': {'u': 2},\n",
    "    'u': {'v1': 1, 'v2': 2},\n",
    "    'v2': {'v1': 3, 'e': 5},\n",
    "    'v1': {'e': 4}\n",
    "}"
   ]
  },
  {
   "cell_type": "code",
   "execution_count": 24,
   "id": "7509709b",
   "metadata": {},
   "outputs": [
    {
     "data": {
      "text/plain": [
       "(['s', 'u', 'v1', 'e'],\n",
       " defaultdict(<function __main__.dijkstra.<locals>.<lambda>()>,\n",
       "             {'s': 0, 'u': 2, 'v1': 3, 'v2': 4, 'e': 7}))"
      ]
     },
     "execution_count": 24,
     "metadata": {},
     "output_type": "execute_result"
    }
   ],
   "source": [
    "def dijkstra(g, src, dst):\n",
    "    dist = defaultdict(lambda: np.inf)\n",
    "    dist[src] = 0\n",
    "    \n",
    "    q = []\n",
    "    heappush(q, (dist[src], src))\n",
    "    \n",
    "    parent = {src: None}\n",
    "    \n",
    "    while q:\n",
    "        cost, u = heappop(q)\n",
    "        \n",
    "        if u == dst:\n",
    "            \n",
    "            x = [u]\n",
    "            while x[-1]:\n",
    "                x.append(parent[x[-1]])\n",
    "            return x[::-1][1:], dist\n",
    "        \n",
    "        for (v, w) in g[u].items():\n",
    "            alt = dist[u] + w\n",
    "            if alt < dist[v]:\n",
    "                dist[v] = alt\n",
    "                parent[v] = u\n",
    "                heappush(q, (dist[v], v))\n",
    "                \n",
    "    assert False\n",
    "    \n",
    "    \n",
    "dijkstra(G, src='s', dst='e')"
   ]
  }
 ],
 "metadata": {
  "kernelspec": {
   "display_name": "Coconut",
   "language": "coconut",
   "name": "coconut"
  },
  "language_info": {
   "codemirror_mode": {
    "name": "ipython",
    "version": 3
   },
   "file_extension": ".coco",
   "mimetype": "text/x-python3",
   "name": "coconut",
   "pygments_lexer": "coconut",
   "version": "3.0.4"
  }
 },
 "nbformat": 4,
 "nbformat_minor": 5
}
